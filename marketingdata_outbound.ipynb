{
 "cells": [
  {
   "cell_type": "code",
   "execution_count": 2,
   "id": "722e7b1a",
   "metadata": {
    "scrolled": true
   },
   "outputs": [
    {
     "name": "stdout",
     "output_type": "stream",
     "text": [
      "Collecting PyPDF2\n",
      "  Downloading pypdf2-3.0.1-py3-none-any.whl (232 kB)\n",
      "\u001b[2K     \u001b[90m━━━━━━━━━━━━━━━━━━━━━━━━━━━━━━━━━━━━━━━\u001b[0m \u001b[32m232.6/232.6 kB\u001b[0m \u001b[31m1.2 MB/s\u001b[0m eta \u001b[36m0:00:00\u001b[0ma \u001b[36m0:00:01\u001b[0m\n",
      "\u001b[?25hInstalling collected packages: PyPDF2\n",
      "Successfully installed PyPDF2-3.0.1\n",
      "\n",
      "\u001b[1m[\u001b[0m\u001b[34;49mnotice\u001b[0m\u001b[1;39;49m]\u001b[0m\u001b[39;49m A new release of pip is available: \u001b[0m\u001b[31;49m23.0.1\u001b[0m\u001b[39;49m -> \u001b[0m\u001b[32;49m23.1.2\u001b[0m\n",
      "\u001b[1m[\u001b[0m\u001b[34;49mnotice\u001b[0m\u001b[1;39;49m]\u001b[0m\u001b[39;49m To update, run: \u001b[0m\u001b[32;49mpip install --upgrade pip\u001b[0m\n",
      "Note: you may need to restart the kernel to use updated packages.\n"
     ]
    }
   ],
   "source": [
    "pip install PyPDF2"
   ]
  },
  {
   "cell_type": "code",
   "execution_count": 3,
   "id": "08ccea52",
   "metadata": {},
   "outputs": [],
   "source": [
    "from PyPDF2 import PdfReader"
   ]
  },
  {
   "cell_type": "code",
   "execution_count": 4,
   "id": "588e698f",
   "metadata": {},
   "outputs": [],
   "source": [
    "reader = PdfReader('marketingdata_outbound.pdf')"
   ]
  },
  {
   "cell_type": "code",
   "execution_count": 9,
   "id": "39d8876b",
   "metadata": {},
   "outputs": [
    {
     "name": "stdout",
     "output_type": "stream",
     "text": [
      "1\n"
     ]
    }
   ],
   "source": [
    "print(len(reader.pages))"
   ]
  },
  {
   "cell_type": "code",
   "execution_count": 11,
   "id": "ff5741e7",
   "metadata": {},
   "outputs": [],
   "source": [
    "page = reader.pages[0]"
   ]
  },
  {
   "cell_type": "code",
   "execution_count": 12,
   "id": "a8817f5a",
   "metadata": {},
   "outputs": [
    {
     "name": "stdout",
     "output_type": "stream",
     "text": [
      "年別 訪日外客数,  出国日本人数の推移 \n",
      "Visitor Arrivals, Japanese Overseas Travelers\n",
      "旅行者数　International Travelers \n",
      "訪日外客数 (＊1) 伸 率 出国日本人数 (＊2) 伸 率 \n",
      "Year Visitor Change Japanese Overseas Change\n",
      "Arrivals Travelers\n",
      "人 ％ 人 ％\n",
      "persons persons\n",
      "1964 昭和39年 352,832 15.5 127,749 27.7\n",
      "1965 昭和40年 366,649 3.9 158,827 24.3\n",
      "1966 昭和41年 432,937 18.1 212,409 33.7\n",
      "1967 昭和42年 476,771 10.1 267,538 26.0\n",
      "1968 昭和43年 519,004 8.9 343,542 28.4\n",
      "1969 昭和44年 608,744 17.3 492,880 43.5\n",
      "1970 昭和45年 854,419 40.4 663,467 34.6\n",
      "1971 昭和46年 660,715 △22.7 961,135 44.9\n",
      "1972 昭和47年 723,744 9.5 1,392,045 44.8\n",
      "1973 昭和48年 784,691 8.4 2,288,966 64.4\n",
      "1974 昭和49年 764,246 △2.6 2,335,530 2.0\n",
      "1975 昭和50年 811,672 6.2 2,466,326 5.6\n",
      "1976 昭和51年 914,772 12.7 2,852,584 15.7\n",
      "1977 昭和52年 1,028,140 12.4 3,151,431 10.5\n",
      "1978 昭和53年 1,038,875 1.0 3,525,110 11.9\n",
      "1979 昭和54年 1,112,606 7.1 4,038,298 14.6\n",
      "1980 昭和55年 1,316,632 18.3 3,909,333 △3.2 \n",
      "1981 昭和56年 1,583,043 20.2 4,006,388 2.5\n",
      "1982 昭和57年 1,793,164 13.3 4,086,138 2.0\n",
      "1983 昭和58年 1,968,461 9.8 4,232,246 3.6\n",
      "1984 昭和59年 2,110,346 7.2 4,658,833 10.1\n",
      "1985 昭和60年 2,327,047 10.3 4,948,366 6.2\n",
      "1986 昭和61年 2,061,526 △11.4 5,516,193 11.5\n",
      "1987 昭和62年 2,154,864 4.5 6,829,338 23.8\n",
      "1988 昭和63年 2,355,412 9.3 8,426,867 23.4\n",
      "1989 平成 元年 2,835,064 20.4 9,662,752 14.7\n",
      "1990 平成 2 年 3,235,860 14.1 10,997,431 13.8\n",
      "1991 平成 3 年 3,532,651 9.2 10,633,777 △3.3 \n",
      "1992 平成 4 年 3,581,540 1.4 11,790,699 10.9\n",
      "1993 平成 5 年 3,410,447 △4.8 11,933,620 1.2\n",
      "1994 平成 6 年 3,468,055 1.7 13,578,934 13.8\n",
      "1995 平成 7 年 3,345,274 △3.5 15,298,125 12.7\n",
      "1996 平成 8 年 3,837,113 14.7 16,694,769 9.1\n",
      "1997 平成 9 年 4,218,208 9.9 16,802,750 0.6\n",
      "1998 平成 10年 4,106,057 △2.7 15,806,218 △5.9 \n",
      "1999 平成 11年 4,437,863 8.1 16,357,572 3.5\n",
      "2000 平成 12年 4,757,146 7.2 17,818,590 8.9\n",
      "2001 平成 13年 4,771,555 0.3 16,215,657 △9.0 \n",
      "2002 平成 14年 5,238,963 9.8 16,522,804 1.9\n",
      "2003 平成 15年 5,211,725 △0.5 13,296,330 △19.5 \n",
      "2004 平成 16年 6,137,905 17.8 16,831,112 26.6\n",
      "2005 平成 17年 6,727,926 9.6 17,403,565 3.4\n",
      "2006 平成 18年 7,334,077 9.0 17,534,565 0.8\n",
      "2007 平成 19年 8,346,969 13.8 17,294,935 △1.4 \n",
      "2008 平成 20年 8,350,835 0.0 15,987,250 △7.6 \n",
      "2009 平成 21年 6,789,658 △18.7 15,445,684 △3.4 \n",
      "2010 平成 22年 8,611,175 26.8 16,637,224 7.7\n",
      "2011 平成 23年 6,218,752 △27.8 16,994,200 2.1\n",
      "2012 平成 24年 8,358,105 34.4 18,490,657 8.8\n",
      "2013 平成 25年 10,363,904 24.0 17,472,748 △5.5 \n",
      "2014 平成 26年 13,413,467 29.4 16,903,388 △3.3 \n",
      "2015 平成 27年 19,737,409 47.1 16,213,789 △4.1 \n",
      "2016 平成 28年 24,039,700 21.8 17,116,420 5.6\n",
      "2017 平成 29年 28,691,073 19.3 17,889,292 4.5\n",
      "2018 平成 30年 31,191,856 8.7 18,954,031 6.0\n",
      "2019 平成31 / 令和元 年 31,882,049 2.2 20,080,669 5.9\n",
      "2020 令和 2 年 4,115,828 △87.1 3,174,219 △84.2 \n",
      "2021 令和 3 年 245,862 △94.0 512,244 △83.9 \n",
      "◆注      (＊1)：　法務省資料に基づき、外国人正規入国者のうちから日本に永続的に居住する外国人 を除き、 \n",
      "　　　　　　　　　　さらに一時上陸客等を加えて集計した。 \n",
      "            (＊2)：　法務省出入国管理統計　出入（帰）国者数より。 \n",
      "            (＊3)：　値はすべて確定値である。 \n",
      "◆Notes (＊1)：  These figures are compiled from the d ata of the Ministry of Justice.  The recalculation serves to \n",
      " 　　　　　　　　　　bring the visitor figures into line with  the international standards.\n",
      "　　 　    (＊2)：   Source is the Ministry of Justice.\n",
      "　　 　    (＊3)：   Figures from 1964 to 2021 are defin itive.年\n"
     ]
    }
   ],
   "source": [
    "text = page.extract_text()\n",
    "print(text)"
   ]
  },
  {
   "cell_type": "code",
   "execution_count": null,
   "id": "5bf8c7b5",
   "metadata": {},
   "outputs": [],
   "source": []
  }
 ],
 "metadata": {
  "kernelspec": {
   "display_name": "Python 3 (ipykernel)",
   "language": "python",
   "name": "python3"
  },
  "language_info": {
   "codemirror_mode": {
    "name": "ipython",
    "version": 3
   },
   "file_extension": ".py",
   "mimetype": "text/x-python",
   "name": "python",
   "nbconvert_exporter": "python",
   "pygments_lexer": "ipython3",
   "version": "3.10.11"
  }
 },
 "nbformat": 4,
 "nbformat_minor": 5
}
